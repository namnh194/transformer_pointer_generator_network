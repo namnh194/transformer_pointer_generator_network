{
 "cells": [
  {
   "cell_type": "code",
   "execution_count": null,
   "id": "f3c802ee-cfda-44fa-a1ae-40dea3fcdb9b",
   "metadata": {},
   "outputs": [],
   "source": [
    "# ! pip install torchtext==0.6.0 pyvi spacy https://gitlab.com/trungtv/vi_spacy/-/raw/master/vi_core_news_lg/dist/vi_core_news_lg-0.0.1.tar.gz rouge_score\n",
    "# ! python -m spacy download en_core_web_sm"
   ]
  },
  {
   "cell_type": "code",
   "execution_count": null,
   "id": "ffb2a844-286e-43b7-9f5f-e42a72d145d8",
   "metadata": {
    "execution": {
     "iopub.execute_input": "2023-08-21T10:24:42.538837Z",
     "iopub.status.busy": "2023-08-21T10:24:42.538442Z",
     "iopub.status.idle": "2023-08-21T10:24:44.458537Z",
     "shell.execute_reply": "2023-08-21T10:24:44.457285Z",
     "shell.execute_reply.started": "2023-08-21T10:24:42.538805Z"
    }
   },
   "outputs": [],
   "source": [
    "# ! git clone https://github.com/namnh194/transformer_pointer_generator_network.git"
   ]
  },
  {
   "cell_type": "code",
   "execution_count": 1,
   "id": "59064acd-f36f-4428-bc5b-26a116350787",
   "metadata": {
    "tags": []
   },
   "outputs": [
    {
     "name": "stderr",
     "output_type": "stream",
     "text": [
      "C:\\Users\\Admin\\Desktop\\transformer_pointer_generator_network\\inference.py:159: FutureWarning: load_metric is deprecated and will be removed in the next major version of datasets. Use 'evaluate.load' instead, from the new library 🤗 Evaluate: https://huggingface.co/docs/evaluate\n",
      "  rouge = datasets.load_metric(\"rouge\")\n"
     ]
    }
   ],
   "source": [
    "# refer: github.com/pbcquoc\n",
    "from dataset import read_data, create_fields, create_dataset\n",
    "from model import Transformer\n",
    "from train_utils import ScheduledOptim, LabelSmoothingLoss, step, validiate\n",
    "from inference import rouge_score, translate_sentence\n",
    "import torch, tqdm\n",
    "import torch.nn as nn\n",
    "import torch.nn.functional as F"
   ]
  },
  {
   "cell_type": "code",
   "execution_count": 2,
   "id": "db43d4ea-75a8-4c30-92de-aef31aff0020",
   "metadata": {
    "tags": []
   },
   "outputs": [
    {
     "data": {
      "text/plain": [
       "DatasetDict({\n",
       "    test: Dataset({\n",
       "        features: ['guid', 'title', 'abstract', 'article'],\n",
       "        num_rows: 22498\n",
       "    })\n",
       "    train: Dataset({\n",
       "        features: ['guid', 'title', 'abstract', 'article'],\n",
       "        num_rows: 99134\n",
       "    })\n",
       "    validation: Dataset({\n",
       "        features: ['guid', 'title', 'abstract', 'article'],\n",
       "        num_rows: 22184\n",
       "    })\n",
       "})"
      ]
     },
     "execution_count": 2,
     "metadata": {},
     "output_type": "execute_result"
    }
   ],
   "source": [
    "import datasets\n",
    "\n",
    "dataset = datasets.load_dataset(\"nam194/vietnews\")\n",
    "dataset"
   ]
  },
  {
   "cell_type": "code",
   "execution_count": 6,
   "id": "893baac9-d806-421c-9ad2-9ef74dc60d28",
   "metadata": {
    "tags": []
   },
   "outputs": [],
   "source": [
    "opt = {\n",
    "    'lang': 'vi_core_news_lg',#'vi_spacy_model',\n",
    "    'en_max_strlen': 256,\n",
    "    'de_max_strlen': 64,\n",
    "    'batchsize': 64,\n",
    "    'device': 'cuda' if torch.cuda.is_available() else 'cpu',\n",
    "    'd_model': 512,\n",
    "    'n_layers': 6,\n",
    "    'heads': 8,\n",
    "    'dropout': 0.1,\n",
    "    'lr': 0.0001,\n",
    "    'epochs': 20,\n",
    "    'printevery': 200,\n",
    "    'k': 5,\n",
    "}"
   ]
  },
  {
   "cell_type": "code",
   "execution_count": null,
   "id": "d088bc14-5a45-43dc-ba90-6c6f1da6066a",
   "metadata": {
    "tags": []
   },
   "outputs": [],
   "source": [
    "train_src_data, train_trg_data = read_data(dataset, 'train', 'article', 'abstract')\n",
    "valid_src_data, valid_trg_data = read_data(dataset, 'validation', 'article', 'abstract')\n",
    "\n",
    "SRC, TRG = create_fields(opt['src_lang'], opt['trg_lang'], opt['en_max_strlen'], opt['de_max_strlen'])\n",
    "train_iter = create_dataset(train_src_data, train_trg_data, opt['batchsize'], opt['device'], SRC, TRG, istrain=True)\n",
    "valid_iter = create_dataset(valid_src_data, valid_trg_data, opt['batchsize'], opt['device'], SRC, TRG, istrain=False)"
   ]
  },
  {
   "cell_type": "code",
   "execution_count": null,
   "id": "6f3eacad-d96b-4b92-9e52-8855ee341889",
   "metadata": {},
   "outputs": [],
   "source": [
    "src_pad = SRC.vocab.stoi['<pad>']\n",
    "trg_pad = TRG.vocab.stoi['<pad>']\n",
    "src_pad, trg_pad"
   ]
  },
  {
   "cell_type": "code",
   "execution_count": null,
   "id": "ebc019ff-d639-46ec-bfaf-193f39492bc4",
   "metadata": {},
   "outputs": [],
   "source": [
    "SRC.preprocess('tôi không còn là sinh viên     đại   học  BKHN')\n",
    "# SRC.vocab.stoi['sinh_viên']"
   ]
  },
  {
   "cell_type": "code",
   "execution_count": null,
   "id": "7d0c61c5-2285-4c08-befc-9f66207ae0e4",
   "metadata": {},
   "outputs": [],
   "source": [
    "from train_utils import create_masks\n",
    "\n",
    "src = batch.src.transpose(0, 1)\n",
    "trg = batch.trg.transpose(0, 1)\n",
    "trg_input = trg[:, :-1]\n",
    "src_mask, trg_mask = create_masks(src, trg_input, src_pad, trg_pad, device='cpu')\n",
    "# preds = model(src, trg_input, src_mask, trg_mask)\n",
    "print(src.shape, trg.shape, trg_input.shape)\n",
    "print(src_mask.shape, trg_mask.shape, src_mask, trg_mask)"
   ]
  },
  {
   "cell_type": "code",
   "execution_count": 7,
   "id": "97f83808-382d-4ae6-972b-d38bbf6f4473",
   "metadata": {
    "tags": []
   },
   "outputs": [
    {
     "name": "stdout",
     "output_type": "stream",
     "text": [
      "44243044\n"
     ]
    }
   ],
   "source": [
    "en_config = {\n",
    "    \"max_seq_len\": opt['en_max_strlen'],\n",
    "    \"d_model\": opt['d_model'],\n",
    "    \"n_heads\": opt['heads'],\n",
    "    \"d_ff\": 2048,\n",
    "    \"num_layer\": opt['n_layers'],\n",
    "    \"dropout\": opt['dropout']}\n",
    "de_config = {\n",
    "    \"max_seq_len\": opt['de_max_strlen'],\n",
    "    \"d_model\": opt['d_model'],\n",
    "    \"n_heads\": opt['heads'],\n",
    "    \"d_ff\": 2048,\n",
    "    \"num_layer\": opt['n_layers'],\n",
    "    \"dropout\": opt['dropout']}\n",
    "\n",
    "vocab_size = 100 # len(tokenizer.vocab)\n",
    "batch_size = opt['batchsize']\n",
    "en_seq_len = en_config[\"max_seq_len\"]\n",
    "de_seq_len = de_config[\"max_seq_len\"]\n",
    "\n",
    "model = Transformer(vocab_size, en_config, de_config)\n",
    "print(sum(p.numel() for p in model.parameters() if p.requires_grad))\n",
    "\n",
    "for p in model.parameters():\n",
    "    if p.dim() > 1:\n",
    "        nn.init.xavier_uniform_(p)\n",
    "model = model.to(opt['device'])"
   ]
  },
  {
   "cell_type": "code",
   "execution_count": null,
   "id": "196f375b-252b-497b-982e-9384c2ce19e7",
   "metadata": {},
   "outputs": [],
   "source": [
    "prob_map = model(src_sent=torch.LongTensor(batch_size, en_config['max_seq_len']).random_(0, vocab_size), \\\n",
    "               tgt_sent=torch.LongTensor(batch_size, de_config['max_seq_len']).random_(0, vocab_size), \\\n",
    "               src_mask=torch.randn(batch_size, 1, en_config['max_seq_len']), \\\n",
    "               tgt_mask=torch.randn(batch_size, 1, de_config['max_seq_len']))\n",
    "print(prob_map.shape)"
   ]
  },
  {
   "cell_type": "code",
   "execution_count": null,
   "id": "fc552d44-0acb-4d56-b1b9-0b80022fe350",
   "metadata": {
    "execution": {
     "iopub.execute_input": "2023-08-21T09:34:14.403190Z",
     "iopub.status.busy": "2023-08-21T09:34:14.402165Z",
     "iopub.status.idle": "2023-08-21T09:34:14.425943Z",
     "shell.execute_reply": "2023-08-21T09:34:14.425044Z",
     "shell.execute_reply.started": "2023-08-21T09:34:14.403154Z"
    }
   },
   "outputs": [],
   "source": [
    "import gc\n",
    "from accelerate import Accelerator\n",
    "\n",
    "optimizer = ScheduledOptim(\n",
    "        torch.optim.Adam(model.parameters(), betas=(0.9, 0.98), eps=1e-09),\n",
    "        0.2, opt['d_model'], 4000)\n",
    "criterion = LabelSmoothingLoss(len(TRG.vocab), padding_idx=trg_pad, smoothing=0.1)\n",
    "\n",
    "model, optimizer, train_iter, valid_iter = Accelerator().prepare(\n",
    "    model, optimizer, train_iter, valid_iter)\n",
    "\n",
    "torch.cuda.empty_cache()\n",
    "gc.collect()"
   ]
  },
  {
   "cell_type": "code",
   "execution_count": null,
   "id": "539e1114-c85f-476c-9747-90adfd047c82",
   "metadata": {
    "execution": {
     "iopub.execute_input": "2023-08-21T09:35:28.617255Z",
     "iopub.status.busy": "2023-08-21T09:35:28.616507Z",
     "iopub.status.idle": "2023-08-21T09:35:32.877019Z",
     "shell.execute_reply": "2023-08-21T09:35:32.875760Z",
     "shell.execute_reply.started": "2023-08-21T09:35:28.617205Z"
    }
   },
   "outputs": [],
   "source": [
    "!wandb login e67e803979133f932a24dac4dedb24348671c1ba"
   ]
  },
  {
   "cell_type": "code",
   "execution_count": null,
   "id": "3f5ac4f3-0bce-462d-95f8-e337e9f43100",
   "metadata": {
    "execution": {
     "iopub.execute_input": "2023-08-21T09:37:03.414255Z",
     "iopub.status.busy": "2023-08-21T09:37:03.413872Z",
     "iopub.status.idle": "2023-08-21T09:37:36.305656Z",
     "shell.execute_reply": "2023-08-21T09:37:36.304788Z",
     "shell.execute_reply.started": "2023-08-21T09:37:03.414223Z"
    }
   },
   "outputs": [],
   "source": [
    "import wandb\n",
    "wandb.init(\n",
    "    # set the wandb project where this run will be logged\n",
    "    project=\"transformer_VNDS\",\n",
    "    \n",
    "    # track hyperparameters and run metadata\n",
    "    config=opt\n",
    ")"
   ]
  },
  {
   "cell_type": "code",
   "execution_count": null,
   "id": "6dd7c3df-cb64-4700-85cf-161433d03663",
   "metadata": {
    "execution": {
     "iopub.execute_input": "2023-08-21T09:47:58.377792Z",
     "iopub.status.busy": "2023-08-21T09:47:58.376783Z",
     "iopub.status.idle": "2023-08-21T09:47:59.349991Z",
     "shell.execute_reply": "2023-08-21T09:47:59.348610Z",
     "shell.execute_reply.started": "2023-08-21T09:47:58.377733Z"
    }
   },
   "outputs": [],
   "source": [
    "import time\n",
    "\n",
    "for epoch in range(opt['epochs']):\n",
    "    total_loss = 0\n",
    "    \n",
    "    for i, batch in enumerate(train_iter): \n",
    "        s = time.time()\n",
    "        loss = step(model, optimizer, batch, criterion, src_pad, trg_pad)\n",
    "        \n",
    "        total_loss += loss\n",
    "        \n",
    "        if (i + 1) % opt['printevery'] == 0:\n",
    "            avg_loss = total_loss/opt['printevery']\n",
    "            wandb.log({\"train_loss\": avg_loss, \"step\": (i+1)+epoch*3097})\n",
    "            print('epoch: {:03d} - iter: {:05d} - train loss: {:.4f} - time: {:.4f}'.format(epoch, i, avg_loss, time.time()- s))\n",
    "            total_loss = 0\n",
    "            \n",
    "    s = time.time()\n",
    "    valid_loss = validiate(model, valid_iter, criterion, src_pad, trg_pad)\n",
    "    score = rouge_score(valid_src_data[:500], valid_trg_data[:500], model, SRC, TRG, opt['device'], opt['k'], opt['max_strlen'])\n",
    "    print('epoch: {:03d} - iter: {:05d} - valid loss: {:.4f} - bleu score: {:.4f} - time: {:.4f}'.format(epoch, i, valid_loss, score, time.time() - s))"
   ]
  },
  {
   "cell_type": "code",
   "execution_count": 139,
   "id": "abe224b8-06d6-4b63-bd8c-2aeb54b3de7d",
   "metadata": {},
   "outputs": [
    {
     "name": "stdout",
     "output_type": "stream",
     "text": [
      "torch.Size([256])\n",
      "Khuôn viên Đại học Stanford , bang California , Mỹ . Các nguồn tin giấu tên hôm qua tiết lộ một gia đình Trung Quốc đã trả 6,5 triệu USD cho William Rick Singer , chủ sở hữu công ty tư vấn đào tạo dự bị đại học Edge College & Career Network , để đảm bảo cho con gái của họ có một suất tại Đại học Stanford , Mỹ . Đây được cho là khoản tiền lớn nhất mà các phụ huynh trả cho Singer , kẻ cầm đầu đường dây chạy vào các trường đại học danh giá của Mỹ . Sau Chiến dịch Versity Blues kéo dài một năm , các công tố viên liên bang Mỹ hồi tháng 3 công bố cách thức hoạt động của đường dây này , đồng thời nộp hồ sơ truy tố lên Bộ Tư pháp . Truyền thông Mỹ xác định nữ sinh Trung Quốc được bố mẹ chi tiền chạy vào Đại học Stanford có tên là Yusi \" Molly \" Zhao . Gia đình Zhao sống tại Bắc Kinh và được một cố vấn tài chính của ngân hàng Morgan Stanley giới thiệu với Singer . Nữ sinh này được nhận vào Stanford năm 2017 nhờ được Singer giới thiệu là một vận động viên đua thuyền đầy hứa hẹn , dù không có bằng chứng cho thấy cô chơi môn thể thao này . Phát ngôn viên Đại học Stanford hôm qua xác nhận với SCMP rằng một sinh viên trường này đã bị huỷ nhập học tháng trước . Tuy nhiên , trường không tiết lộ tên sinh viên theo quy định của luật bảo vệ thông tin cá nhân . Theo Wall Street Journal , một gia đình Trung Quốc khác cũng được kết nối với Singer thông qua một nhân viên của ngân hàng Oppenheimer , sau đó bỏ ra 1,2 triệu USD để con gái được nhận vào Đại học Yale . Tuy nhiên , cả hai gia đình Trung Quốc đều không bị buộc tội .\n"
     ]
    },
    {
     "data": {
      "text/plain": [
       "'chứng_thư chứng_thư chứng_thư sinh_thời sinh_thời sinh_thời sinh_thời sinh_thời sinh_thời sinh_thời sinh_thời sinh_thời sinh_thời sinh_thời chứng_thư chứng_thư chứng_thư chứng_thư chứng_thư chứng_thư chứng_thư chứng_thư chứng_thư chứng_thư chứng_thư chứng_thư chứng_thư chứng_thư chứng_thư chứng_thư chứng_thư chứng_thư Phúc_Cường sinh_thời Phúc_Cường sinh_thời chứng_thư chứng_thư chứng_thư sinh_thời Phúc_Cường Phúc_Cường Phúc_Cường Vương_Chí_Dân chứng_thư chứng_thư chứng_thư chứng_thư chứng_thư chứng_thư chứng_thư chứng_thư chứng_thư chứng_thư chứng_thư chứng_thư chứng_thư chứng_thư chứng_thư chứng_thư chứng_thư chứng_thư'"
      ]
     },
     "execution_count": 139,
     "metadata": {},
     "output_type": "execute_result"
    }
   ],
   "source": [
    "batch = next(iter(valid_iter)).src[:,0]\n",
    "print(batch.shape)\n",
    "sentence = []\n",
    "\n",
    "for i in batch:\n",
    "    if i not in [0,1]:\n",
    "        sentence += [SRC.vocab.itos[i]]\n",
    "sentence = ' '.join(sentence).replace('_',' ')\n",
    "print(sentence)\n",
    "\n",
    "trans_sent = translate_sentence(sentence, model, SRC, TRG, opt['device'], opt['k'], opt['de_max_strlen'])\n",
    "trans_sent"
   ]
  },
  {
   "cell_type": "code",
   "execution_count": 142,
   "id": "10e0bc27-72c6-430e-b810-9ac8439763dc",
   "metadata": {},
   "outputs": [
    {
     "name": "stdout",
     "output_type": "stream",
     "text": [
      "0 torch.Size([256, 11])\n"
     ]
    }
   ],
   "source": []
  },
  {
   "cell_type": "code",
   "execution_count": 148,
   "id": "94635560-baad-4527-be92-8e6996d5b4cb",
   "metadata": {},
   "outputs": [
    {
     "name": "stdout",
     "output_type": "stream",
     "text": [
      "0 torch.Size([256, 2])\n",
      "idx:  0\n",
      "Ngày 29 - 11 , trao đổi với Tuổi Trẻ về việc Sở Tài nguyên - môi trường Hà Nội lấy ý kiến góp ý của các sở ngành , quận huyện về phương án bảo vệ khoáng sản chưa khai thác , ông Nguyễn Minh Mười , phó giám đốc Sở Tài nguyên - môi trường Hà Nội khẳng định chủ trương chung là không khuyến khích khai thác khoáng sản . Theo phương án bảo vệ khoáng sản chưa khai thác , Sở Tài nguyên - môi trường Hà Nội cho biết trên địa bàn thành phố có một số loại khoáng sản chính và có triển vọng khai thác là đá xây dựng , cát xây dựng và cát san lấp , sét gạch ngói , than bùn và puzolan . Đá xây dựng được phân bố dọc theo ranh giới phía tây , tiếp giáp với Hoà Bình từ Núi Chẹ , Đá Chông ( huyện Ba Vì ) qua Phú Mãn , Núi Voi ( huyện Quốc Oai ) đến Mỹ Đức và một vài mỏ nhỏ ở ranh giới xã Minh Phú , xã Nam Sơn ( huyện Sóc Sơn ) . Cát san lấp , cát xây dựng phân bố tại lưu vực sông Hồng , sông Đà , sông Đáy , sông Cà lồ đi qua các quận , huyện như Sóc Sơn , Mê Linh , Đông Anh , Gia Lâm , Bắc Từ Liêm , Phúc Thọ , Đan Phượng , Thường Tín , Thanh Trì , Hoàng Mai , Ứng Hoà , Mỹ Đức , Phú Xuyên , Ba Vì và thị xã Sơn Tây . Đất sét làm gạch ngói phân bố chủ yếu ở các huyện Sóc Sơn , Mê Linh , Quốc Oai và thị xã Sơn Tây . Than bùn được phân bố tập trung ở các huyện Mỹ Đức , Quốc Oai , Ba Vì , Sóc Sơn và thị xã Sơn Tây . Tuy nhiên , trong công tác bảo vệ khoáng sản chưa khai thác , Sở Tài nguyên - môi trường Hà Nội cho rằng , tình trạng khai thác cát lòng sông vẫn\n",
      "---------------------------------------------------\n",
      "idx:  1\n",
      "Ông Trump bắt đầu ngày làm việc cùng lãnh đạo nhóm các nền kinh tế G7 tại Biarritz , Pháp , trong bối cảnh căng thẳng thương mại Mỹ - Trung là tâm điểm . Giới quan sát cho rằng các nước còn lại của nhóm G7 đều muốn căng thẳng Mỹ - Trung hạ nhiệt , đặc biệt sau khi chứng kiến ông Trump tuyên bố tăng mức thuế nhập khẩu đánh vào 250 tỉ USD hàng hoá Trung Quốc từ 25 % lên 30 % . Tổng thống Mỹ khẳng định ông \" không quan tâm \" tới phản ứng của thị trường khi đưa ra quyết định được xem là \" chiến tới cùng \" với Trung Quốc nêu trên , theo Hãng tin Reuters ngày 25 - 8 . Tuyên bố \" không quan tâm \" này hẳn nhiên không tích cực cho mong muốn từ các nước khác trong G7 , đặc biệt trong bối cảnh bản thân những đồng minh của Mỹ trong Liên minh châu Âu ( EU ) cũng đối diện những bất đồng nội bộ và cả chuyện Anh rời EU . Tuy vậy , ông Trump lại cảm thấy sự kiện G7 năm nay diễn ra tốt đẹp và tích cực , ít nhất nhìn từ phía Mỹ . Ngay trước khi bước vào cuộc gặp song phương với Thủ tướng Anh Boris Johnson hôm 25 - 8 , ông Trump đã khẳng định mình hoà hợp với các đồng minh phương Tây ở G7 , chứ không phải \" có những bất hoà \" như đồn đoán . \" Trước khi tới Pháp , những tin tức giả mạo nói rằng quan hệ giữa Mỹ và 6 nước còn lại rất căng thẳng , và rằng hai ngày họp sẽ là thảm hoạ . Vâng , chúng tôi có các buổi họp rất tốt , các\n",
      "---------------------------------------------------\n"
     ]
    }
   ],
   "source": [
    "for i, batch in enumerate(train_iter):\n",
    "    if batch.src.shape[-1] != 1:\n",
    "        print(i, batch.src.shape)\n",
    "        break\n",
    "\n",
    "for idx in range(batch.src.shape[-1]):\n",
    "    print('idx: ',idx)\n",
    "    sentence = []\n",
    "    for i in batch.src[:,idx]:\n",
    "        if i not in [0,1]:\n",
    "            sentence += [SRC.vocab.itos[i].replace('_',' ')]\n",
    "    print(' '.join(sentence))\n",
    "    print('---------------------------------------------------')"
   ]
  },
  {
   "cell_type": "code",
   "execution_count": null,
   "id": "096d979f-997b-4808-aefb-5d400ce81d02",
   "metadata": {},
   "outputs": [],
   "source": []
  }
 ],
 "metadata": {
  "kernelspec": {
   "display_name": "Python 3 (ipykernel)",
   "language": "python",
   "name": "python3"
  },
  "language_info": {
   "codemirror_mode": {
    "name": "ipython",
    "version": 3
   },
   "file_extension": ".py",
   "mimetype": "text/x-python",
   "name": "python",
   "nbconvert_exporter": "python",
   "pygments_lexer": "ipython3",
   "version": "3.10.9"
  }
 },
 "nbformat": 4,
 "nbformat_minor": 5
}
